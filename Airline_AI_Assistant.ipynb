{
 "cells": [
  {
   "cell_type": "code",
   "execution_count": 1,
   "id": "4c958105-63fe-4708-b7a4-fad7d7d01a29",
   "metadata": {},
   "outputs": [],
   "source": [
    "# imports\n",
    "\n",
    "import os\n",
    "import json\n",
    "from dotenv import load_dotenv\n",
    "from openai import OpenAI\n",
    "import gradio as gr"
   ]
  },
  {
   "cell_type": "code",
   "execution_count": 2,
   "id": "e8ac7ff6-d177-44f9-88bd-d4fccca60fd8",
   "metadata": {},
   "outputs": [
    {
     "name": "stdout",
     "output_type": "stream",
     "text": [
      "OpenAI API Key exists and begins sk-proj-\n"
     ]
    }
   ],
   "source": [
    "# Initialization\n",
    "\n",
    "load_dotenv(override=True)\n",
    "\n",
    "openai_api_key = os.getenv('OPENAI_API_KEY')\n",
    "if openai_api_key:\n",
    "    print(f\"OpenAI API Key exists and begins {openai_api_key[:8]}\")\n",
    "else:\n",
    "    print(\"OpenAI API Key not set\")\n",
    "    \n",
    "MODEL = \"gpt-5\"\n",
    "openai = OpenAI()"
   ]
  },
  {
   "cell_type": "code",
   "execution_count": 3,
   "id": "4cc429d1-e577-4f5c-bada-54aaf6306338",
   "metadata": {},
   "outputs": [],
   "source": [
    "system_message = \"You are a helpful assistant for an Airline called FlightAI. \"\n",
    "system_message += \"Give short, courteous answers, no more than 1 sentence. \"\n",
    "system_message += \"Always be accurate. If you don't know the answer, say so.\""
   ]
  },
  {
   "cell_type": "code",
   "execution_count": 4,
   "id": "5ecd8c80-41eb-40fd-9a17-db13363ce128",
   "metadata": {},
   "outputs": [
    {
     "name": "stdout",
     "output_type": "stream",
     "text": [
      "* Running on local URL:  http://127.0.0.1:7869\n",
      "* To create a public link, set `share=True` in `launch()`.\n"
     ]
    },
    {
     "data": {
      "text/html": [
       "<div><iframe src=\"http://127.0.0.1:7869/\" width=\"100%\" height=\"500\" allow=\"autoplay; camera; microphone; clipboard-read; clipboard-write;\" frameborder=\"0\" allowfullscreen></iframe></div>"
      ],
      "text/plain": [
       "<IPython.core.display.HTML object>"
      ]
     },
     "metadata": {},
     "output_type": "display_data"
    },
    {
     "data": {
      "text/plain": []
     },
     "execution_count": 4,
     "metadata": {},
     "output_type": "execute_result"
    }
   ],
   "source": [
    "# This function looks rather simpler than the one from my video, because we're taking advantage of the latest Gradio updates\n",
    "\n",
    "def chat(message, history):\n",
    "    messages = [{\"role\": \"system\", \"content\": system_message}] + history + [{\"role\": \"user\", \"content\": message}]\n",
    "    response = openai.chat.completions.create(model=MODEL, messages=messages)\n",
    "    return response.choices[0].message.content\n",
    "\n",
    "gr.ChatInterface(fn=chat, type=\"messages\").launch()"
   ]
  },
  {
   "cell_type": "code",
   "execution_count": 8,
   "id": "defa3dbe-c0b6-41de-a7b6-b4968ee66579",
   "metadata": {},
   "outputs": [],
   "source": [
    "# Let's start by making a useful function\n",
    "\n",
    "ticket_prices = {\"london\": \"$799\", \"paris\": \"$899\", \"tokyo\": \"$1400\", \"berlin\": \"$499\"}\n",
    "#available_cities = list(ticket_prices.keys())\n",
    "\n",
    "def get_ticket_price(destination_city):\n",
    "    print(f\"Tool get_ticket_price called for {destination_city}\")\n",
    "    city = destination_city.lower()\n",
    "    return ticket_prices.get(city, \"Unknown\")\n",
    "\n",
    "def get_available_cities():\n",
    "    \"\"\"Gets the complete list of cities where tickets are available.\"\"\"\n",
    "    print(\"Tool 'get_available_cities' called.\")\n",
    "    return list(ticket_prices.keys())"
   ]
  },
  {
   "cell_type": "code",
   "execution_count": 9,
   "id": "0ec089e7-8411-491c-9254-0607e6a71265",
   "metadata": {},
   "outputs": [
    {
     "name": "stdout",
     "output_type": "stream",
     "text": [
      "Tool get_ticket_price called for Berlin\n"
     ]
    },
    {
     "data": {
      "text/plain": [
       "list"
      ]
     },
     "execution_count": 9,
     "metadata": {},
     "output_type": "execute_result"
    }
   ],
   "source": [
    "get_ticket_price(\"Berlin\")\n",
    "type(available_cities)"
   ]
  },
  {
   "cell_type": "code",
   "execution_count": 10,
   "id": "a3a98ce4-8cce-4da3-9c20-f816894019d3",
   "metadata": {},
   "outputs": [
    {
     "name": "stdout",
     "output_type": "stream",
     "text": [
      "Tool 'get_available_cities' called.\n",
      "Available Cities: ['london', 'paris', 'tokyo', 'berlin']\n"
     ]
    }
   ],
   "source": [
    "print(\"Available Cities:\", get_available_cities())"
   ]
  },
  {
   "cell_type": "code",
   "execution_count": 11,
   "id": "290211dd-cf99-4f45-9ace-1e199cc5586c",
   "metadata": {},
   "outputs": [],
   "source": [
    "# There's a particular dictionary structure that's required to describe our function:\n",
    "\n",
    "price_function = {\n",
    "    \"name\": \"get_ticket_price\",\n",
    "    \"description\": \"Get the price of a return ticket to the destination city. Call this whenever you need to know the ticket price, for example when a customer asks 'How much is a ticket to this city', If the customer ask what cities we can provide ticket prices for? just return the whole list of cities.\",\n",
    "    \"parameters\": {\n",
    "        \"type\": \"object\",\n",
    "        \"properties\": {\n",
    "            \"destination_city\": {\n",
    "                \"type\": \"string\",\n",
    "                \"description\": \"The city that the customer wants to travel to\",\n",
    "            },\n",
    "        },\n",
    "        \"required\": [\"destination_city\"],\n",
    "        \"additionalProperties\": False\n",
    "    }\n",
    "}"
   ]
  },
  {
   "cell_type": "code",
   "execution_count": 14,
   "id": "4732b9cf-b7bd-4a95-8588-3ab9c94fcb97",
   "metadata": {},
   "outputs": [],
   "source": [
    "\n",
    "available_cities_schema = {\n",
    "    \"name\": \"get_available_cities\",\n",
    "    \"description\": \"Get the complete list of available cities for which a ticket price can be looked up.\",\n",
    "    \"parameters\": {\n",
    "        # This part is crucial: it must be an object schema, even if there are no parameters.\n",
    "        \"type\": \"object\",\n",
    "        \"properties\": {},\n",
    "        \"required\": []\n",
    "    }\n",
    "}\n"
   ]
  },
  {
   "cell_type": "code",
   "execution_count": 15,
   "id": "ec06b038-b3f6-4051-8725-e38ab1062516",
   "metadata": {},
   "outputs": [],
   "source": [
    "# And this is included in a list of tools:\n",
    "\n",
    "#tools = [{\"type\": \"function\", \"function\": price_function}]\n",
    "\n",
    "tools = [\n",
    "    {\n",
    "        \"type\": \"function\",\n",
    "        \"function\": price_function\n",
    "    },\n",
    "    {\n",
    "        \"type\": \"function\",\n",
    "        \"function\": available_cities_schema # <-- Added the new tool here\n",
    "    }\n",
    "]"
   ]
  },
  {
   "cell_type": "code",
   "execution_count": 16,
   "id": "f8479f83-8238-496e-b432-403c8b405e7f",
   "metadata": {},
   "outputs": [],
   "source": [
    "def chat(message, history):\n",
    "    messages = [{\"role\": \"system\", \"content\": system_message}] + history + [{\"role\": \"user\", \"content\": message}]\n",
    "    response = openai.chat.completions.create(model=MODEL, messages=messages, tools=tools)\n",
    "\n",
    "    if response.choices[0].finish_reason == \"tool_calls\":\n",
    "        message = response.choices[0].message\n",
    "        \n",
    "        # This unpacking now works correctly because handle_tool_call always returns 3 values\n",
    "        tool_response, city, available_cities = handle_tool_call(message)\n",
    "        \n",
    "        messages.append(message)\n",
    "        messages.append(tool_response) # Append the tool's response\n",
    "        \n",
    "        # Call the model again with the tool's output\n",
    "        response = openai.chat.completions.create(model=MODEL, messages=messages)\n",
    "    \n",
    "    return response.choices[0].message.content\n"
   ]
  },
  {
   "cell_type": "code",
   "execution_count": 18,
   "id": "5bdf2f22-2a63-4f1e-abb4-5adba37fc146",
   "metadata": {},
   "outputs": [],
   "source": [
    "# --- Tool Call Handler ---\n",
    "\n",
    "def handle_tool_call(message):\n",
    "    \"\"\"\n",
    "    Handles calls for different tools and consistently returns three values.\n",
    "    \"\"\"\n",
    "    tool_call = message.tool_calls[0]\n",
    "    function_name = tool_call.function.name\n",
    "    tool_call_id = tool_call.id\n",
    "    \n",
    "    print(f\"Handling tool call for function: '{function_name}'\")\n",
    "\n",
    "    city_context = None\n",
    "    available_cities_list = None\n",
    "    content = \"\"\n",
    "\n",
    "    if function_name == \"get_ticket_price\":\n",
    "        # Logic for the price-checking tool\n",
    "        arguments = json.loads(tool_call.function.arguments)\n",
    "        city = arguments.get('destination_city')\n",
    "        price = get_ticket_price(city)\n",
    "        content = json.dumps({\"destination_city\": city, \"price\": price})\n",
    "        city_context = city # Set the city context\n",
    "\n",
    "    elif function_name == \"get_available_cities\":\n",
    "        # Logic for the available cities tool\n",
    "        cities = get_available_cities()\n",
    "        content = json.dumps({\"available_cities\": cities})\n",
    "        available_cities_list = cities # Set the available cities list\n",
    "\n",
    "    else:\n",
    "        # Handle cases where the tool name is unknown\n",
    "        content = json.dumps({\"error\": f\"Tool '{function_name}' not found.\"})\n",
    "\n",
    "    # Construct the final response dictionary\n",
    "    response = {\n",
    "        \"role\": \"tool\",\n",
    "        \"content\": content,\n",
    "        \"tool_call_id\": tool_call_id\n",
    "    }\n",
    "    \n",
    "    # ALWAYS return three values to match the unpacking in the chat function\n",
    "    return response, city_context, available_cities_list\n"
   ]
  },
  {
   "cell_type": "code",
   "execution_count": 22,
   "id": "c8b820d0-e42c-4a0d-9135-6e00596ff904",
   "metadata": {},
   "outputs": [
    {
     "name": "stdout",
     "output_type": "stream",
     "text": [
      "* Running on local URL:  http://127.0.0.1:7871\n",
      "* Running on public URL: https://f6d98418e7360149c4.gradio.live\n",
      "\n",
      "This share link expires in 1 week. For free permanent hosting and GPU upgrades, run `gradio deploy` from the terminal in the working directory to deploy to Hugging Face Spaces (https://huggingface.co/spaces)\n"
     ]
    },
    {
     "data": {
      "text/html": [
       "<div><iframe src=\"https://f6d98418e7360149c4.gradio.live\" width=\"100%\" height=\"500\" allow=\"autoplay; camera; microphone; clipboard-read; clipboard-write;\" frameborder=\"0\" allowfullscreen></iframe></div>"
      ],
      "text/plain": [
       "<IPython.core.display.HTML object>"
      ]
     },
     "metadata": {},
     "output_type": "display_data"
    },
    {
     "data": {
      "text/plain": []
     },
     "execution_count": 22,
     "metadata": {},
     "output_type": "execute_result"
    },
    {
     "name": "stdout",
     "output_type": "stream",
     "text": [
      "Handling tool call for function: 'get_available_cities'\n",
      "Tool 'get_available_cities' called.\n",
      "Handling tool call for function: 'get_ticket_price'\n",
      "Tool get_ticket_price called for London\n"
     ]
    }
   ],
   "source": [
    "gr.ChatInterface(fn=chat, type=\"messages\").launch(share = True, inbrowser =True)"
   ]
  },
  {
   "cell_type": "code",
   "execution_count": null,
   "id": "601eb157-1a5f-409f-9f1b-91beb395cfde",
   "metadata": {},
   "outputs": [],
   "source": []
  }
 ],
 "metadata": {
  "kernelspec": {
   "display_name": "Python 3 (ipykernel)",
   "language": "python",
   "name": "python3"
  },
  "language_info": {
   "codemirror_mode": {
    "name": "ipython",
    "version": 3
   },
   "file_extension": ".py",
   "mimetype": "text/x-python",
   "name": "python",
   "nbconvert_exporter": "python",
   "pygments_lexer": "ipython3",
   "version": "3.11.13"
  }
 },
 "nbformat": 4,
 "nbformat_minor": 5
}
